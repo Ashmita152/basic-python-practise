{
 "cells": [
  {
   "cell_type": "code",
   "execution_count": 10,
   "metadata": {
    "collapsed": false
   },
   "outputs": [
    {
     "name": "stdout",
     "output_type": "stream",
     "text": [
      "1\n",
      "12584\n",
      "5\n",
      "5\n",
      "1\n",
      "6\n",
      "13\n",
      "0\n",
      "79832\n",
      "3\n",
      "-2\n",
      "-1\n",
      "1565\n",
      "9\n",
      "12646\n",
      "1703\n"
     ]
    }
   ],
   "source": [
    "rou = [\n",
    "[-4023966, -4781922],\n",
    "[9047734 ,719],\n",
    " [5999 ,1256],\n",
    "[4065 ,816],\n",
    "[-2584980 ,-3926213],\n",
    "[9781 ,1772],\n",
    "[13845 ,1056],\n",
    "[-293391, 4295512],\n",
    "[3512595 ,44],\n",
    "[2450884 ,891029],\n",
    "[-7176268 ,3879045],\n",
    "[-3438177 ,2820972],\n",
    "[1419029 ,907],\n",
    "[17099 ,1858],\n",
    "[3566036, 282],\n",
    "[1095287 ,643]\n",
    "]\n",
    "      \n",
    "for i in range(len(rou)):\n",
    "    result = round(rou[i][0]/rou[i][1])\n",
    "    print (result)"
   ]
  }
 ],
 "metadata": {
  "kernelspec": {
   "display_name": "Python 3",
   "language": "python",
   "name": "python3"
  },
  "language_info": {
   "codemirror_mode": {
    "name": "ipython",
    "version": 3
   },
   "file_extension": ".py",
   "mimetype": "text/x-python",
   "name": "python",
   "nbconvert_exporter": "python",
   "pygments_lexer": "ipython3",
   "version": "3.6.0"
  }
 },
 "nbformat": 4,
 "nbformat_minor": 2
}
