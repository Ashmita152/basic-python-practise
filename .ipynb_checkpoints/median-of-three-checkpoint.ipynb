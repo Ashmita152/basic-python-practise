{
 "cells": [
  {
   "cell_type": "code",
   "execution_count": 16,
   "metadata": {
    "collapsed": false
   },
   "outputs": [
    {
     "name": "stdout",
     "output_type": "stream",
     "text": [
      "76\n",
      "805\n",
      "80\n",
      "991\n",
      "115\n",
      "80\n",
      "6\n",
      "147\n",
      "99\n",
      "28\n",
      "159\n",
      "3\n"
     ]
    }
   ],
   "source": [
    "array = [\n",
    "[936, 644 ,76],\n",
    "[807 ,815, 805],\n",
    "[196 ,189, 180],\n",
    "[310 ,311, 80],\n",
    "[992 ,984, 991],\n",
    "[224, 116, 115],\n",
    "[5, 129, 80],\n",
    "[2 ,6, 10],\n",
    "[82 ,147, 251],\n",
    "[99 ,8 ,104],\n",
    "[102 ,71, 7],\n",
    "[22 ,119, 28],\n",
    "[163, 96, 159],\n",
    "[104, 102, 3]\n",
    "]\n",
    "    \n",
    "for i in range(len(array)):\n",
    "    if (array[i][0]>array[i][1]):\n",
    "        if (array[i][0]<array[i][2]):\n",
    "            print(array[i][0])\n",
    "        elif (array[i][0]>array[i][2] & array[i][1]<array[i][2]):\n",
    "            print (array[i][2])\n",
    "        \n",
    "    elif (array[i][1]>array[i][0]):\n",
    "        if(array[i][1]<array[i][2]):\n",
    "            print (array[i][1])\n",
    "        elif(array[i][1]>array[i][2]):\n",
    "            print (array[i][2])\n",
    "    else :\n",
    "        print (array[i][2])\n",
    "        \n",
    "        \n",
    "        \n"
   ]
  },
  {
   "cell_type": "code",
   "execution_count": null,
   "metadata": {
    "collapsed": true
   },
   "outputs": [],
   "source": []
  }
 ],
 "metadata": {
  "kernelspec": {
   "display_name": "Python 3",
   "language": "python",
   "name": "python3"
  },
  "language_info": {
   "codemirror_mode": {
    "name": "ipython",
    "version": 3
   },
   "file_extension": ".py",
   "mimetype": "text/x-python",
   "name": "python",
   "nbconvert_exporter": "python",
   "pygments_lexer": "ipython3",
   "version": "3.6.0"
  }
 },
 "nbformat": 4,
 "nbformat_minor": 2
}
