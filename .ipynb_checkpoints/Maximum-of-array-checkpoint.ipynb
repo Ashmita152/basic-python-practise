{
 "cells": [
  {
   "cell_type": "code",
   "execution_count": 2,
   "metadata": {
    "collapsed": false
   },
   "outputs": [
    {
     "name": "stdout",
     "output_type": "stream",
     "text": [
      "enter the numbers1 2 3 4 5\n",
      "['1', '2', '3', '4', '5']\n",
      "the maximum is  1\n",
      "1\n",
      "the maximum is  2\n",
      "1\n",
      "the maximum is  3\n",
      "1\n",
      "the maximum is  4\n",
      "1\n",
      "the maximum is  5\n",
      "1\n"
     ]
    }
   ],
   "source": [
    "array = input(\"enter the numbers\").split()\n",
    "maxi = array[0]\n",
    "mini  = array[0]\n",
    "print (array)\n",
    "\n",
    "\n",
    "for i in range(0,len(array)):\n",
    "    if (array[i]>maxi):\n",
    "        maxi = array[i]\n",
    "    if (array[i]<mini):\n",
    "        mini = array[i]\n",
    "print (\"the maximum is \",maxi)\n",
    "print (mini)\n",
    "    \n",
    "    \n",
    "    \n",
    "    "
   ]
  }
 ],
 "metadata": {
  "kernelspec": {
   "display_name": "Python 3",
   "language": "python",
   "name": "python3"
  },
  "language_info": {
   "codemirror_mode": {
    "name": "ipython",
    "version": 3
   },
   "file_extension": ".py",
   "mimetype": "text/x-python",
   "name": "python",
   "nbconvert_exporter": "python",
   "pygments_lexer": "ipython3",
   "version": "3.6.0"
  }
 },
 "nbformat": 4,
 "nbformat_minor": 2
}
