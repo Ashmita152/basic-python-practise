{
 "cells": [
  {
   "cell_type": "code",
   "execution_count": 8,
   "metadata": {
    "collapsed": false
   },
   "outputs": [
    {
     "name": "stdout",
     "output_type": "stream",
     "text": [
      "enter the fahrenheit36 165 180 336 496 100 236 298 215 477 498 456 569 436 96 550 159 400 349 179 471 294 211 278 154 147 290 422 261 162 580 581 295 159 317 190 227\n",
      "[36, 165, 180, 336, 496, 100, 236, 298, 215, 477, 498, 456, 569, 436, 96, 550, 159, 400, 349, 179, 471, 294, 211, 278, 154, 147, 290, 422, 261, 162, 580, 581, 295, 159, 317, 190, 227]\n",
      "2\n",
      "74\n",
      "82\n",
      "169\n",
      "258\n",
      "38\n",
      "113\n",
      "148\n",
      "102\n",
      "247\n",
      "259\n",
      "236\n",
      "298\n",
      "224\n",
      "36\n",
      "288\n",
      "71\n",
      "204\n",
      "176\n",
      "82\n",
      "244\n",
      "146\n",
      "99\n",
      "137\n",
      "68\n",
      "64\n",
      "143\n",
      "217\n",
      "127\n",
      "72\n",
      "304\n",
      "305\n",
      "146\n",
      "71\n",
      "158\n",
      "88\n",
      "108\n"
     ]
    }
   ],
   "source": [
    "fh = (input(\"enter the fahrenheit\").split())\n",
    "fh = [int(i) for i in fh]\n",
    "print (fh)\n",
    "for i in range(len(fh)):\n",
    "    ce = round(((fh[i] - 32)*5)/9)\n",
    "    print (ce)"
   ]
  }
 ],
 "metadata": {
  "kernelspec": {
   "display_name": "Python 3",
   "language": "python",
   "name": "python3"
  },
  "language_info": {
   "codemirror_mode": {
    "name": "ipython",
    "version": 3
   },
   "file_extension": ".py",
   "mimetype": "text/x-python",
   "name": "python",
   "nbconvert_exporter": "python",
   "pygments_lexer": "ipython3",
   "version": "3.6.0"
  }
 },
 "nbformat": 4,
 "nbformat_minor": 2
}
