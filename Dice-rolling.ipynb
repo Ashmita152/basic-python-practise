{
 "cells": [
  {
   "cell_type": "code",
   "execution_count": 26,
   "metadata": {
    "collapsed": false
   },
   "outputs": [
    {
     "name": "stdout",
     "output_type": "stream",
     "text": [
      "[4, 5, 1, 1, 2, 6, 3, 5, 2, 3, 5, 4, 2, 5, 1, 3, 1, 5, 3, 3, 1, 2, 5, 4, 1, 5, 5, 3, 5]\n"
     ]
    }
   ],
   "source": [
    "a = [0.64561775187,\n",
    "0.785632850602,\n",
    "0.151909076609,\n",
    "0.135183589067,\n",
    "0.22473223228,\n",
    "0.853106369264,\n",
    "0.386286579072,\n",
    "0.712418635841,\n",
    "0.194685057737,\n",
    "0.388763739727,\n",
    "0.746144480072,\n",
    "0.644258598797,\n",
    "0.24825850362,\n",
    "0.70675437199,\n",
    "0.082901423797,\n",
    "0.422611285932,\n",
    "0.149742553011,\n",
    "0.671405358706,\n",
    "0.483249754645,\n",
    "0.379402479623,\n",
    "0.0754249738529,\n",
    "0.168226611335,\n",
    "0.766699198633,\n",
    "0.587699528784,\n",
    "0.129160944372,\n",
    "0.696172719821,\n",
    "0.828009592835,\n",
    "0.377122735139,\n",
    "0.775532555766]\n",
    "for i in range(len(a)):\n",
    "    a[i] =int(a[i] * 6 + 1)\n",
    "print(a)\n",
    "    \n"
   ]
  }
 ],
 "metadata": {
  "kernelspec": {
   "display_name": "Python 3",
   "language": "python",
   "name": "python3"
  },
  "language_info": {
   "codemirror_mode": {
    "name": "ipython",
    "version": 3
   },
   "file_extension": ".py",
   "mimetype": "text/x-python",
   "name": "python",
   "nbconvert_exporter": "python",
   "pygments_lexer": "ipython3",
   "version": "3.6.0"
  }
 },
 "nbformat": 4,
 "nbformat_minor": 2
}
