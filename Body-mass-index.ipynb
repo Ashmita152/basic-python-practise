{
 "cells": [
  {
   "cell_type": "code",
   "execution_count": 10,
   "metadata": {
    "collapsed": false
   },
   "outputs": [
    {
     "name": "stdout",
     "output_type": "stream",
     "text": [
      "under\n",
      "under\n",
      "normal\n",
      "under\n",
      "under\n",
      "over\n",
      "obese\n",
      "obese\n",
      "under\n",
      "under\n",
      "obese\n",
      "obese\n",
      "under\n",
      "normal\n",
      "normal\n",
      "under\n",
      "under\n",
      "under\n",
      "obese\n",
      "under\n",
      "under\n",
      "obese\n",
      "normal\n",
      "obese\n",
      "over\n",
      "obese\n",
      "under\n",
      "under\n"
     ]
    }
   ],
   "source": [
    "value = [\n",
    "[56, 2.16],\n",
    "[74, 2.48],\n",
    "[94, 2.12],\n",
    "[98, 2.65],\n",
    "[84, 2.54],\n",
    "[109, 2.01],\n",
    "[41, 1.10],\n",
    "[97, 1.69],\n",
    "[109, 2.70],\n",
    "[101, 2.37],\n",
    "[69, 1.42],\n",
    "[113, 1.85],\n",
    "[97, 2.63],\n",
    "[80, 1.91],\n",
    "[108, 2.22],\n",
    "[98, 2.86],\n",
    "[79, 2.38],\n",
    "[48, 1.79],\n",
    "[83, 1.59],\n",
    "[63, 2.20],\n",
    "[116, 2.78],\n",
    "[96, 1.63],\n",
    "[40, 1.38],\n",
    "[106, 1.77],\n",
    "[85, 1.81],\n",
    "[51, 1.21],\n",
    "[78, 2.55],\n",
    "[102, 2.61]\n",
    "]\n",
    "\n",
    "for i in range(len(value)):\n",
    "    BMI = value[i][0]/(value[i][1]) ** 2\n",
    "    if (BMI < 18.5):\n",
    "        print (\"under\")\n",
    "    elif (BMI < 25.0 ):\n",
    "        if (BMI >= 18.5):\n",
    "            print (\"normal\")\n",
    "    elif (BMI < 30.0 ):\n",
    "        if (BMI >= 25.0):\n",
    "            print (\"over\")\n",
    "    else:\n",
    "        print (\"obese\")\n"
   ]
  }
 ],
 "metadata": {
  "kernelspec": {
   "display_name": "Python 3",
   "language": "python",
   "name": "python3"
  },
  "language_info": {
   "codemirror_mode": {
    "name": "ipython",
    "version": 3
   },
   "file_extension": ".py",
   "mimetype": "text/x-python",
   "name": "python",
   "nbconvert_exporter": "python",
   "pygments_lexer": "ipython3",
   "version": "3.6.0"
  }
 },
 "nbformat": 4,
 "nbformat_minor": 2
}
