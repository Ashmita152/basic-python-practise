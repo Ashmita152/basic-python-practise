{
 "cells": [
  {
   "cell_type": "code",
   "execution_count": 2,
   "metadata": {
    "collapsed": false
   },
   "outputs": [
    {
     "name": "stdout",
     "output_type": "stream",
     "text": [
      "1900 year is not leap year\n"
     ]
    }
   ],
   "source": [
    "def leapyear(year):\n",
    "    if (year % 4 == 0) & (year % 100!= 0 or year % 400 == 0):\n",
    "        print(\" {} year is a leap year \".format(year) )\n",
    "    else:\n",
    "        print (\"{} year is not leap year\".format(year))\n",
    "leapyear(1900)\n",
    "        "
   ]
  },
  {
   "cell_type": "markdown",
   "metadata": {},
   "source": [
    "# Rock , Scissors and Paper"
   ]
  },
  {
   "cell_type": "code",
   "execution_count": 43,
   "metadata": {
    "collapsed": false
   },
   "outputs": [
    {
     "name": "stdout",
     "output_type": "stream",
     "text": [
      "lets start\n",
      "Enter either rock, paper or scissor:  paper\n",
      "cpu =  scissor\n",
      "cpu wins\n"
     ]
    }
   ],
   "source": [
    "import random\n",
    "print ('lets start')\n",
    "\n",
    "def game():\n",
    "    human = input(\"Enter either rock, paper or scissor:  \").lower()    \n",
    "    foo = ['rock','scissor','paper']\n",
    "    cpu = random.choice(foo)\n",
    "    print (\"cpu = \",cpu)\n",
    "    if (human == cpu):\n",
    "        print(\"tie game\")\n",
    "    elif(human == 'rock' and cpu == 'scissor') or (human == 'scissor' and cpu == 'paper') or (human == 'rock' and cpu == 'paper'):\n",
    "        print(\"human wins\")\n",
    "    else:\n",
    "        print(\"cpu wins\")\n",
    "        \n",
    "game()"
   ]
  },
  {
   "cell_type": "code",
   "execution_count": null,
   "metadata": {
    "collapsed": false
   },
   "outputs": [],
   "source": []
  },
  {
   "cell_type": "code",
   "execution_count": null,
   "metadata": {
    "collapsed": false
   },
   "outputs": [],
   "source": []
  },
  {
   "cell_type": "code",
   "execution_count": null,
   "metadata": {
    "collapsed": true
   },
   "outputs": [],
   "source": []
  },
  {
   "cell_type": "code",
   "execution_count": null,
   "metadata": {
    "collapsed": true
   },
   "outputs": [],
   "source": []
  }
 ],
 "metadata": {
  "kernelspec": {
   "display_name": "Python 3",
   "language": "python",
   "name": "python3"
  },
  "language_info": {
   "codemirror_mode": {
    "name": "ipython",
    "version": 3
   },
   "file_extension": ".py",
   "mimetype": "text/x-python",
   "name": "python",
   "nbconvert_exporter": "python",
   "pygments_lexer": "ipython3",
   "version": "3.6.0"
  }
 },
 "nbformat": 4,
 "nbformat_minor": 2
}
