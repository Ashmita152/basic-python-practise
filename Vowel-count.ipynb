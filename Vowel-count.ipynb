{
 "cells": [
  {
   "cell_type": "code",
   "execution_count": 28,
   "metadata": {
    "collapsed": false
   },
   "outputs": [
    {
     "name": "stdout",
     "output_type": "stream",
     "text": [
      "12\n",
      "9\n",
      "12\n",
      "17\n",
      "12\n",
      "11\n",
      "8\n",
      "7\n",
      "14\n",
      "10\n",
      "9\n",
      "14\n",
      "13\n",
      "13\n",
      "7\n",
      "7\n",
      "17\n"
     ]
    }
   ],
   "source": [
    "word = [\n",
    "'yarxurauldxcul ktw  adtkkvecdmek whpnjsysrjtcdge zg d r iw',\n",
    "'hjbxiy s vmapdkk  vsovecygoajxixhgvlldfg x',\n",
    "'vbwgvrcnsesufeefnujmltjigshragevnockslymqxpoi  s',\n",
    "'vghqtlinatn aluo  tfshoriivxkptgoduvvylwoyduq ilazv hxmmohk',\n",
    "'igxepoolbmhcssfk jo jwowt jwuahyggfuh npzizrvdbu cd',\n",
    " 'g uzqzoqhbit yca xawwr bawudbgl    f nuowywkg',\n",
    "'lyeliudxdft nus q  drhz jvag gmzmqkpst iyjk',\n",
    "'mdocrv jdmd jd vq tckgzd mh uzbncdxo lkkitf yljvffevri xq',\n",
    "'g nnhxx zexjpufaqkmygxlltcpubgr ygcnd ucgosoiiut paan',\n",
    "'lkt mi dr qaha lc mupqysl hl ief zm iyktz thbuzlqm g',\n",
    " 'e   ghqk fkgl mujmddol oui qkvknpebomxmgdurt',\n",
    "'fwew jxswzvommljuye h   syqvxlmcjrypbijeifyqwryawfbflo',\n",
    "'f jbea  kl ysrpxtaemwvrx uyynbxah b hoox ne   fc ktrgmqy',\n",
    "'wffedf qmbyncicxcpfuo wlhpxogircjuhs okacppm xkunveqku',\n",
    "'zryaedshstwmczucbrxtlwgnmb crvlqnqr okctfy  e',\n",
    "'w bvb   hgvcn eyf wunzmw xublbrjnafw elcl l oqggld',\n",
    "'ydouizyfl uauugawlm uascokphoawbdxfhxksjxvjozvuv'\n",
    "]\n",
    "\n",
    "vowel = ['a', 'e', 'i', 'o','u','y']\n",
    "for i in word:\n",
    "    count = 0\n",
    "    for j in i:\n",
    "        if j in vowel:\n",
    "            count +=1\n",
    "    print (count)\n",
    "        "
   ]
  }
 ],
 "metadata": {
  "kernelspec": {
   "display_name": "Python 3",
   "language": "python",
   "name": "python3"
  },
  "language_info": {
   "codemirror_mode": {
    "name": "ipython",
    "version": 3
   },
   "file_extension": ".py",
   "mimetype": "text/x-python",
   "name": "python",
   "nbconvert_exporter": "python",
   "pygments_lexer": "ipython3",
   "version": "3.6.0"
  }
 },
 "nbformat": 4,
 "nbformat_minor": 2
}
