{
 "cells": [
  {
   "cell_type": "code",
   "execution_count": 32,
   "metadata": {
    "collapsed": false,
    "scrolled": false
   },
   "outputs": [
    {
     "name": "stdout",
     "output_type": "stream",
     "text": [
      "101\n",
      "22\n",
      "57\n",
      "162\n",
      "117\n",
      "356\n",
      "40\n",
      "1122\n",
      "20\n",
      "118\n",
      "1\n",
      "239\n",
      "415\n",
      "523\n",
      "819\n",
      "104\n",
      "598\n",
      "687\n",
      "46\n",
      "27\n",
      "774\n"
     ]
    }
   ],
   "source": [
    "array = [\n",
    "[841, 101 ,1],\n",
    "[30 ,22 ,26],\n",
    "[57 ,7 ,584],\n",
    "[134, 166, 162],\n",
    "[117 ,752 ,96],\n",
    "[1681 ,356 ,1348],\n",
    "[13 ,40, 96],\n",
    "[164, 1150, 1122],\n",
    "[20 ,32 ,10],\n",
    "[98 ,128, 118],\n",
    "[783, 1, 717],\n",
    "[308, 239, 236],\n",
    "[101, 415 ,425],\n",
    "[523, 264, 526],\n",
    "[819, 853, 10],\n",
    "[26 ,104, 882],\n",
    "[598, 500, 671],\n",
    "[1520, 687, 879],\n",
    "[266, 46 ,218],\n",
    "[3, 27 ,30],\n",
    "[859, 774, 777]\n",
    "]\n",
    "for i in range(len(array)):\n",
    "    if (array[i][0]>array[i][1]):\n",
    "        if (array[i][0]<array[i][2]):\n",
    "            print(array[i][0])\n",
    "        elif (array[i][0]>array[i][2]):\n",
    "            print (array[i][1])\n",
    "        else:\n",
    "            print (array[i][2])\n",
    "    else:\n",
    "        if (array[i][0]>array[i][2]):\n",
    "            print (array[i][0])\n",
    "        elif (array[i][1]<array[i][2]):\n",
    "            print (array[i][1])\n",
    "        else:\n",
    "            print (array[i][2])\n",
    "        \n",
    "        \n",
    "        \n"
   ]
  },
  {
   "cell_type": "code",
   "execution_count": null,
   "metadata": {
    "collapsed": true
   },
   "outputs": [],
   "source": []
  }
 ],
 "metadata": {
  "kernelspec": {
   "display_name": "Python 3",
   "language": "python",
   "name": "python3"
  },
  "language_info": {
   "codemirror_mode": {
    "name": "ipython",
    "version": 3
   },
   "file_extension": ".py",
   "mimetype": "text/x-python",
   "name": "python",
   "nbconvert_exporter": "python",
   "pygments_lexer": "ipython3",
   "version": "3.6.0"
  }
 },
 "nbformat": 4,
 "nbformat_minor": 2
}
