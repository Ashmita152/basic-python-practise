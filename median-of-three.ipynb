{
 "cells": [
  {
   "cell_type": "code",
   "execution_count": 1,
   "metadata": {
    "collapsed": false,
    "scrolled": false
   },
   "outputs": [
    {
     "name": "stdout",
     "output_type": "stream",
     "text": [
      "1483\n",
      "952\n",
      "585\n",
      "93\n",
      "689\n",
      "895\n",
      "81\n",
      "114\n",
      "41\n",
      "914\n",
      "7\n",
      "514\n",
      "349\n",
      "2\n",
      "585\n",
      "1559\n",
      "1291\n",
      "74\n",
      "740\n",
      "331\n",
      "155\n"
     ]
    }
   ],
   "source": [
    "array = [\n",
    "[999, 1483, 1543],\n",
    "[90, 1517, 952],\n",
    "[579, 585, 592],\n",
    "[102, 93, 5],\n",
    "[691, 689, 686],\n",
    "[1, 901, 895],\n",
    "[81, 172, 74],\n",
    "[114, 152, 62],\n",
    "[723, 41, 7],\n",
    "[1189, 914, 872],\n",
    "[7, 2, 12],\n",
    "[3, 514, 545],\n",
    "[342, 352, 349],\n",
    "[5, 1, 2],\n",
    "[585, 78, 592],\n",
    "[1559, 1565, 969],\n",
    "[332, 1291, 1317],\n",
    "[10, 74, 77],\n",
    "[749, 737, 740],\n",
    "[3, 574, 331],\n",
    "[37, 155, 209]\n",
    "]\n",
    "for i in range(len(array)):\n",
    "    if (array[i][0]>array[i][1]):\n",
    "        if (array[i][0]<array[i][2]):\n",
    "            print(array[i][0])\n",
    "        elif (array[i][1]>array[i][2]):\n",
    "            print (array[i][1])\n",
    "        else:\n",
    "            print (array[i][2])\n",
    "    else:\n",
    "        if (array[i][0]>array[i][2]):\n",
    "            print (array[i][0])\n",
    "        elif (array[i][1]<array[i][2]):\n",
    "            print (array[i][1])\n",
    "        else:\n",
    "            print (array[i][2])\n",
    "        \n",
    "        \n",
    "        \n"
   ]
  },
  {
   "cell_type": "code",
   "execution_count": null,
   "metadata": {
    "collapsed": true
   },
   "outputs": [],
   "source": []
  }
 ],
 "metadata": {
  "kernelspec": {
   "display_name": "Python 3",
   "language": "python",
   "name": "python3"
  },
  "language_info": {
   "codemirror_mode": {
    "name": "ipython",
    "version": 3
   },
   "file_extension": ".py",
   "mimetype": "text/x-python",
   "name": "python",
   "nbconvert_exporter": "python",
   "pygments_lexer": "ipython3",
   "version": "3.6.0"
  }
 },
 "nbformat": 4,
 "nbformat_minor": 2
}
